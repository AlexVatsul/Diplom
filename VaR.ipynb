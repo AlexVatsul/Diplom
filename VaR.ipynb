{
 "cells": [
  {
   "cell_type": "markdown",
   "id": "0e27dbea",
   "metadata": {},
   "source": [
    "### Value at Risk"
   ]
  },
  {
   "cell_type": "markdown",
   "id": "7cc18658",
   "metadata": {},
   "source": [
    "### 1 Historical Method with Python"
   ]
  },
  {
   "cell_type": "code",
   "execution_count": 1,
   "id": "6c8f558a",
   "metadata": {},
   "outputs": [],
   "source": [
    "import numpy as np\n",
    "import pandas as pd\n",
    "import datetime as dt\n",
    "import yfinance as yf\n",
    "import matplotlib.pyplot as plt\n",
    "from scipy.stats import norm"
   ]
  },
  {
   "cell_type": "markdown",
   "id": "2048fb19",
   "metadata": {},
   "source": [
    "### Установим время"
   ]
  },
  {
   "cell_type": "code",
   "execution_count": 2,
   "id": "b193e0f6",
   "metadata": {},
   "outputs": [],
   "source": [
    "years = 15\n",
    "\n",
    "endDate = dt.datetime.now()\n",
    "startDate = endDate - dt.timedelta(days=365*years)"
   ]
  },
  {
   "cell_type": "markdown",
   "id": "8888117e",
   "metadata": {},
   "source": [
    "### Создадим список тикеров"
   ]
  },
  {
   "cell_type": "code",
   "execution_count": 3,
   "id": "031bacf8",
   "metadata": {},
   "outputs": [],
   "source": [
    "tickers = ['SPY', 'BND', 'GLD', 'QQQ', 'VTI']"
   ]
  },
  {
   "cell_type": "markdown",
   "id": "a10853bf",
   "metadata": {},
   "source": [
    "### Скачиваем для каждого скорректированные цены закрытия (Adjustead closed prices)"
   ]
  },
  {
   "cell_type": "code",
   "execution_count": 5,
   "id": "b3420f25",
   "metadata": {},
   "outputs": [
    {
     "name": "stderr",
     "output_type": "stream",
     "text": [
      "[*********************100%***********************]  1 of 1 completed\n"
     ]
    }
   ],
   "source": [
    "data = yf.download(ticker[0], start=startDate, end=endDate)"
   ]
  },
  {
   "cell_type": "code",
   "execution_count": 7,
   "id": "2ac7ec13",
   "metadata": {},
   "outputs": [
    {
     "name": "stderr",
     "output_type": "stream",
     "text": [
      "[*********************100%***********************]  1 of 1 completed\n",
      "[*********************100%***********************]  1 of 1 completed\n",
      "[*********************100%***********************]  1 of 1 completed\n",
      "[*********************100%***********************]  1 of 1 completed\n",
      "[*********************100%***********************]  1 of 1 completed\n"
     ]
    },
    {
     "data": {
      "text/html": [
       "<div>\n",
       "<style scoped>\n",
       "    .dataframe tbody tr th:only-of-type {\n",
       "        vertical-align: middle;\n",
       "    }\n",
       "\n",
       "    .dataframe tbody tr th {\n",
       "        vertical-align: top;\n",
       "    }\n",
       "\n",
       "    .dataframe thead th {\n",
       "        text-align: right;\n",
       "    }\n",
       "</style>\n",
       "<table border=\"1\" class=\"dataframe\">\n",
       "  <thead>\n",
       "    <tr style=\"text-align: right;\">\n",
       "      <th></th>\n",
       "      <th>SPY</th>\n",
       "      <th>BND</th>\n",
       "      <th>GLD</th>\n",
       "      <th>QQQ</th>\n",
       "      <th>VTI</th>\n",
       "    </tr>\n",
       "    <tr>\n",
       "      <th>Date</th>\n",
       "      <th></th>\n",
       "      <th></th>\n",
       "      <th></th>\n",
       "      <th></th>\n",
       "      <th></th>\n",
       "    </tr>\n",
       "  </thead>\n",
       "  <tbody>\n",
       "    <tr>\n",
       "      <th>2010-04-22</th>\n",
       "      <td>91.965408</td>\n",
       "      <td>51.698200</td>\n",
       "      <td>111.839996</td>\n",
       "      <td>43.925369</td>\n",
       "      <td>47.387180</td>\n",
       "    </tr>\n",
       "    <tr>\n",
       "      <th>2010-04-23</th>\n",
       "      <td>92.565742</td>\n",
       "      <td>51.659149</td>\n",
       "      <td>113.190002</td>\n",
       "      <td>44.108719</td>\n",
       "      <td>47.707932</td>\n",
       "    </tr>\n",
       "    <tr>\n",
       "      <th>2010-04-26</th>\n",
       "      <td>92.216164</td>\n",
       "      <td>51.633110</td>\n",
       "      <td>112.750000</td>\n",
       "      <td>44.012661</td>\n",
       "      <td>47.539921</td>\n",
       "    </tr>\n",
       "    <tr>\n",
       "      <th>2010-04-27</th>\n",
       "      <td>90.035233</td>\n",
       "      <td>51.821926</td>\n",
       "      <td>114.629997</td>\n",
       "      <td>43.078461</td>\n",
       "      <td>46.394382</td>\n",
       "    </tr>\n",
       "    <tr>\n",
       "      <th>2010-04-28</th>\n",
       "      <td>90.719154</td>\n",
       "      <td>51.789368</td>\n",
       "      <td>114.309998</td>\n",
       "      <td>43.104649</td>\n",
       "      <td>46.699844</td>\n",
       "    </tr>\n",
       "    <tr>\n",
       "      <th>...</th>\n",
       "      <td>...</td>\n",
       "      <td>...</td>\n",
       "      <td>...</td>\n",
       "      <td>...</td>\n",
       "      <td>...</td>\n",
       "    </tr>\n",
       "    <tr>\n",
       "      <th>2025-04-11</th>\n",
       "      <td>533.940002</td>\n",
       "      <td>72.019997</td>\n",
       "      <td>297.929993</td>\n",
       "      <td>454.399994</td>\n",
       "      <td>261.739990</td>\n",
       "    </tr>\n",
       "    <tr>\n",
       "      <th>2025-04-14</th>\n",
       "      <td>539.119995</td>\n",
       "      <td>72.430000</td>\n",
       "      <td>296.230011</td>\n",
       "      <td>457.480011</td>\n",
       "      <td>264.149994</td>\n",
       "    </tr>\n",
       "    <tr>\n",
       "      <th>2025-04-15</th>\n",
       "      <td>537.609985</td>\n",
       "      <td>72.610001</td>\n",
       "      <td>297.779999</td>\n",
       "      <td>457.989990</td>\n",
       "      <td>263.690002</td>\n",
       "    </tr>\n",
       "    <tr>\n",
       "      <th>2025-04-16</th>\n",
       "      <td>525.659973</td>\n",
       "      <td>72.809998</td>\n",
       "      <td>307.470001</td>\n",
       "      <td>444.179993</td>\n",
       "      <td>258.209991</td>\n",
       "    </tr>\n",
       "    <tr>\n",
       "      <th>2025-04-17</th>\n",
       "      <td>526.409973</td>\n",
       "      <td>72.650002</td>\n",
       "      <td>306.119995</td>\n",
       "      <td>444.100006</td>\n",
       "      <td>258.750000</td>\n",
       "    </tr>\n",
       "  </tbody>\n",
       "</table>\n",
       "<p>3772 rows × 5 columns</p>\n",
       "</div>"
      ],
      "text/plain": [
       "                   SPY        BND         GLD         QQQ         VTI\n",
       "Date                                                                 \n",
       "2010-04-22   91.965408  51.698200  111.839996   43.925369   47.387180\n",
       "2010-04-23   92.565742  51.659149  113.190002   44.108719   47.707932\n",
       "2010-04-26   92.216164  51.633110  112.750000   44.012661   47.539921\n",
       "2010-04-27   90.035233  51.821926  114.629997   43.078461   46.394382\n",
       "2010-04-28   90.719154  51.789368  114.309998   43.104649   46.699844\n",
       "...                ...        ...         ...         ...         ...\n",
       "2025-04-11  533.940002  72.019997  297.929993  454.399994  261.739990\n",
       "2025-04-14  539.119995  72.430000  296.230011  457.480011  264.149994\n",
       "2025-04-15  537.609985  72.610001  297.779999  457.989990  263.690002\n",
       "2025-04-16  525.659973  72.809998  307.470001  444.179993  258.209991\n",
       "2025-04-17  526.409973  72.650002  306.119995  444.100006  258.750000\n",
       "\n",
       "[3772 rows x 5 columns]"
      ]
     },
     "execution_count": 7,
     "metadata": {},
     "output_type": "execute_result"
    }
   ],
   "source": [
    "adj_close_df = pd.DataFrame()\n",
    "for ticker in tickers:\n",
    "    data = yf.download(ticker, start=startDate, end=endDate)\n",
    "    adj_close_df[ticker] = data['Close']\n",
    "\n",
    "adj_close_df"
   ]
  },
  {
   "cell_type": "markdown",
   "id": "f2cad2ca",
   "metadata": {},
   "source": [
    "### Расчитаем дневную лог доходность и удалим пустые значения"
   ]
  },
  {
   "cell_type": "code",
   "execution_count": 8,
   "id": "031eacc1",
   "metadata": {},
   "outputs": [
    {
     "data": {
      "text/html": [
       "<div>\n",
       "<style scoped>\n",
       "    .dataframe tbody tr th:only-of-type {\n",
       "        vertical-align: middle;\n",
       "    }\n",
       "\n",
       "    .dataframe tbody tr th {\n",
       "        vertical-align: top;\n",
       "    }\n",
       "\n",
       "    .dataframe thead th {\n",
       "        text-align: right;\n",
       "    }\n",
       "</style>\n",
       "<table border=\"1\" class=\"dataframe\">\n",
       "  <thead>\n",
       "    <tr style=\"text-align: right;\">\n",
       "      <th></th>\n",
       "      <th>SPY</th>\n",
       "      <th>BND</th>\n",
       "      <th>GLD</th>\n",
       "      <th>QQQ</th>\n",
       "      <th>VTI</th>\n",
       "    </tr>\n",
       "    <tr>\n",
       "      <th>Date</th>\n",
       "      <th></th>\n",
       "      <th></th>\n",
       "      <th></th>\n",
       "      <th></th>\n",
       "      <th></th>\n",
       "    </tr>\n",
       "  </thead>\n",
       "  <tbody>\n",
       "    <tr>\n",
       "      <th>2010-04-23</th>\n",
       "      <td>0.006507</td>\n",
       "      <td>-0.000756</td>\n",
       "      <td>0.011999</td>\n",
       "      <td>0.004165</td>\n",
       "      <td>0.006746</td>\n",
       "    </tr>\n",
       "    <tr>\n",
       "      <th>2010-04-26</th>\n",
       "      <td>-0.003784</td>\n",
       "      <td>-0.000504</td>\n",
       "      <td>-0.003895</td>\n",
       "      <td>-0.002180</td>\n",
       "      <td>-0.003528</td>\n",
       "    </tr>\n",
       "    <tr>\n",
       "      <th>2010-04-27</th>\n",
       "      <td>-0.023934</td>\n",
       "      <td>0.003650</td>\n",
       "      <td>0.016537</td>\n",
       "      <td>-0.021454</td>\n",
       "      <td>-0.024391</td>\n",
       "    </tr>\n",
       "    <tr>\n",
       "      <th>2010-04-28</th>\n",
       "      <td>0.007567</td>\n",
       "      <td>-0.000628</td>\n",
       "      <td>-0.002795</td>\n",
       "      <td>0.000608</td>\n",
       "      <td>0.006562</td>\n",
       "    </tr>\n",
       "    <tr>\n",
       "      <th>2010-04-29</th>\n",
       "      <td>0.012321</td>\n",
       "      <td>0.000378</td>\n",
       "      <td>-0.000262</td>\n",
       "      <td>0.017270</td>\n",
       "      <td>0.012998</td>\n",
       "    </tr>\n",
       "    <tr>\n",
       "      <th>...</th>\n",
       "      <td>...</td>\n",
       "      <td>...</td>\n",
       "      <td>...</td>\n",
       "      <td>...</td>\n",
       "      <td>...</td>\n",
       "    </tr>\n",
       "    <tr>\n",
       "      <th>2025-04-11</th>\n",
       "      <td>0.017686</td>\n",
       "      <td>-0.001110</td>\n",
       "      <td>0.018907</td>\n",
       "      <td>0.018255</td>\n",
       "      <td>0.016604</td>\n",
       "    </tr>\n",
       "    <tr>\n",
       "      <th>2025-04-14</th>\n",
       "      <td>0.009655</td>\n",
       "      <td>0.005677</td>\n",
       "      <td>-0.005722</td>\n",
       "      <td>0.006755</td>\n",
       "      <td>0.009165</td>\n",
       "    </tr>\n",
       "    <tr>\n",
       "      <th>2025-04-15</th>\n",
       "      <td>-0.002805</td>\n",
       "      <td>0.002482</td>\n",
       "      <td>0.005219</td>\n",
       "      <td>0.001114</td>\n",
       "      <td>-0.001743</td>\n",
       "    </tr>\n",
       "    <tr>\n",
       "      <th>2025-04-16</th>\n",
       "      <td>-0.022479</td>\n",
       "      <td>0.002751</td>\n",
       "      <td>0.032023</td>\n",
       "      <td>-0.030617</td>\n",
       "      <td>-0.021001</td>\n",
       "    </tr>\n",
       "    <tr>\n",
       "      <th>2025-04-17</th>\n",
       "      <td>0.001426</td>\n",
       "      <td>-0.002200</td>\n",
       "      <td>-0.004400</td>\n",
       "      <td>-0.000180</td>\n",
       "      <td>0.002089</td>\n",
       "    </tr>\n",
       "  </tbody>\n",
       "</table>\n",
       "<p>3771 rows × 5 columns</p>\n",
       "</div>"
      ],
      "text/plain": [
       "                 SPY       BND       GLD       QQQ       VTI\n",
       "Date                                                        \n",
       "2010-04-23  0.006507 -0.000756  0.011999  0.004165  0.006746\n",
       "2010-04-26 -0.003784 -0.000504 -0.003895 -0.002180 -0.003528\n",
       "2010-04-27 -0.023934  0.003650  0.016537 -0.021454 -0.024391\n",
       "2010-04-28  0.007567 -0.000628 -0.002795  0.000608  0.006562\n",
       "2010-04-29  0.012321  0.000378 -0.000262  0.017270  0.012998\n",
       "...              ...       ...       ...       ...       ...\n",
       "2025-04-11  0.017686 -0.001110  0.018907  0.018255  0.016604\n",
       "2025-04-14  0.009655  0.005677 -0.005722  0.006755  0.009165\n",
       "2025-04-15 -0.002805  0.002482  0.005219  0.001114 -0.001743\n",
       "2025-04-16 -0.022479  0.002751  0.032023 -0.030617 -0.021001\n",
       "2025-04-17  0.001426 -0.002200 -0.004400 -0.000180  0.002089\n",
       "\n",
       "[3771 rows x 5 columns]"
      ]
     },
     "execution_count": 8,
     "metadata": {},
     "output_type": "execute_result"
    }
   ],
   "source": [
    "log_returns = np.log(adj_close_df / adj_close_df.shift(1))\n",
    "log_returns = log_returns.dropna()\n",
    "log_returns"
   ]
  },
  {
   "cell_type": "markdown",
   "id": "90b2d9f6",
   "metadata": {},
   "source": [
    "### Создадим портфель с равными долями"
   ]
  },
  {
   "cell_type": "code",
   "execution_count": 9,
   "id": "c48587be",
   "metadata": {},
   "outputs": [
    {
     "data": {
      "text/plain": [
       "array([0.2, 0.2, 0.2, 0.2, 0.2])"
      ]
     },
     "execution_count": 9,
     "metadata": {},
     "output_type": "execute_result"
    }
   ],
   "source": [
    "portfolio_value = 1000000\n",
    "weights = np.array([1/len(tickers)]*len(tickers))\n",
    "weights"
   ]
  },
  {
   "cell_type": "markdown",
   "id": "92fcb374",
   "metadata": {},
   "source": [
    "### Рассчитаем историческую доходность портфеля (Calculate the historical portfolio returns)"
   ]
  },
  {
   "cell_type": "code",
   "execution_count": 10,
   "id": "7ebdb5c5",
   "metadata": {},
   "outputs": [
    {
     "data": {
      "text/plain": [
       "Date\n",
       "2010-04-23    0.005732\n",
       "2010-04-26   -0.002778\n",
       "2010-04-27   -0.009919\n",
       "2010-04-28    0.002263\n",
       "2010-04-29    0.008541\n",
       "                ...   \n",
       "2025-04-11    0.014068\n",
       "2025-04-14    0.005106\n",
       "2025-04-15    0.000853\n",
       "2025-04-16   -0.007865\n",
       "2025-04-17   -0.000653\n",
       "Length: 3771, dtype: float64"
      ]
     },
     "execution_count": 10,
     "metadata": {},
     "output_type": "execute_result"
    }
   ],
   "source": [
    "historical_returns = (log_returns * weights).sum(axis =1)\n",
    "historical_returns"
   ]
  },
  {
   "cell_type": "code",
   "execution_count": 18,
   "id": "aaf49d7a",
   "metadata": {},
   "outputs": [
    {
     "data": {
      "text/plain": [
       "Date\n",
       "2010-04-29    0.003839\n",
       "2010-04-30   -0.010289\n",
       "2010-05-03    0.001055\n",
       "2010-05-04   -0.005721\n",
       "2010-05-05   -0.011365\n",
       "                ...   \n",
       "2025-04-11    0.043594\n",
       "2025-04-14    0.055997\n",
       "2025-04-15    0.066895\n",
       "2025-04-16   -0.010674\n",
       "2025-04-17    0.011510\n",
       "Length: 3767, dtype: float64"
      ]
     },
     "execution_count": 18,
     "metadata": {},
     "output_type": "execute_result"
    }
   ],
   "source": [
    "days = 5\n",
    "\n",
    "range_returns = historical_returns.rolling(window = days).sum()\n",
    "range_returns = range_returns.dropna()\n",
    "range_returns"
   ]
  },
  {
   "cell_type": "code",
   "execution_count": 19,
   "id": "32e30343",
   "metadata": {},
   "outputs": [
    {
     "data": {
      "text/plain": [
       "24336.635838509017"
      ]
     },
     "execution_count": 19,
     "metadata": {},
     "output_type": "execute_result"
    }
   ],
   "source": [
    "confidence_interval = 0.95\n",
    "\n",
    "VaR = -np.percentile(range_returns, 100 - (confidence_interval * 100))*portfolio_value\n",
    "VaR"
   ]
  },
  {
   "cell_type": "code",
   "execution_count": 20,
   "id": "d8cc5aaf",
   "metadata": {},
   "outputs": [
    {
     "data": {
      "image/png": "[encoded data removed]",
      "text/plain": [
       "<Figure size 640x480 with 1 Axes>"
      ]
     },
     "metadata": {},
     "output_type": "display_data"
    }
   ],
   "source": [
    "return_window = days\n",
    "range_returns = historical_returns.rolling(window=return_window).sum()\n",
    "range_returns = range_returns.dropna()\n",
    "\n",
    "range_returns_dollar = range_returns * portfolio_value\n",
    "\n",
    "plt.hist(range_returns_dollar.dropna(), bins=50, density=True)\n",
    "plt.xlabel(f'{return_window}-Day Portfolio Return (Dollar Value)')\n",
    "plt.ylabel('Frequency')\n",
    "plt.title(f'Distribution of Portfolio {return_window}-Day Returns (Dollar Value)')\n",
    "plt.axvline(-VaR, color='r', linestyle='dashed', linewidth=2, label=f'VaR at {confidence_interval:.0%} confidence level')\n",
    "plt.legend()\n",
    "plt.show()"
   ]
  },
  {
   "cell_type": "markdown",
   "id": "0bd36f62",
   "metadata": {},
   "source": [
    "### 2 Parametric Method with Python"
   ]
  },
  {
   "cell_type": "code",
   "execution_count": 22,
   "id": "f0bb45aa",
   "metadata": {},
   "outputs": [],
   "source": [
    "import numpy as np\n",
    "import pandas as pd\n",
    "import datetime as dt\n",
    "import yfinance as yf\n",
    "import matplotlib.pyplot as plt\n",
    "from scipy.stats import norm"
   ]
  },
  {
   "cell_type": "code",
   "execution_count": 23,
   "id": "c7f4ab4a",
   "metadata": {},
   "outputs": [],
   "source": [
    "years = 15\n",
    "\n",
    "endDate = dt.datetime.now()\n",
    "startDate = endDate - dt.timedelta(days=365*years)\n",
    "\n",
    "tickers = ['SPY', 'BND', 'GLD', 'QQQ', 'VTI']"
   ]
  },
  {
   "cell_type": "code",
   "execution_count": 28,
   "id": "39ad5b95",
   "metadata": {},
   "outputs": [
    {
     "name": "stderr",
     "output_type": "stream",
     "text": [
      "[*********************100%***********************]  1 of 1 completed\n",
      "[*********************100%***********************]  1 of 1 completed\n",
      "[*********************100%***********************]  1 of 1 completed\n",
      "[*********************100%***********************]  1 of 1 completed\n",
      "[*********************100%***********************]  1 of 1 completed\n"
     ]
    },
    {
     "data": {
      "text/html": [
       "<div>\n",
       "<style scoped>\n",
       "    .dataframe tbody tr th:only-of-type {\n",
       "        vertical-align: middle;\n",
       "    }\n",
       "\n",
       "    .dataframe tbody tr th {\n",
       "        vertical-align: top;\n",
       "    }\n",
       "\n",
       "    .dataframe thead th {\n",
       "        text-align: right;\n",
       "    }\n",
       "</style>\n",
       "<table border=\"1\" class=\"dataframe\">\n",
       "  <thead>\n",
       "    <tr style=\"text-align: right;\">\n",
       "      <th></th>\n",
       "      <th>SPY</th>\n",
       "      <th>BND</th>\n",
       "      <th>GLD</th>\n",
       "      <th>QQQ</th>\n",
       "      <th>VTI</th>\n",
       "    </tr>\n",
       "    <tr>\n",
       "      <th>Date</th>\n",
       "      <th></th>\n",
       "      <th></th>\n",
       "      <th></th>\n",
       "      <th></th>\n",
       "      <th></th>\n",
       "    </tr>\n",
       "  </thead>\n",
       "  <tbody>\n",
       "    <tr>\n",
       "      <th>2010-04-22</th>\n",
       "      <td>91.965446</td>\n",
       "      <td>51.698235</td>\n",
       "      <td>111.839996</td>\n",
       "      <td>43.925362</td>\n",
       "      <td>47.387177</td>\n",
       "    </tr>\n",
       "    <tr>\n",
       "      <th>2010-04-23</th>\n",
       "      <td>92.565788</td>\n",
       "      <td>51.659168</td>\n",
       "      <td>113.190002</td>\n",
       "      <td>44.108707</td>\n",
       "      <td>47.707928</td>\n",
       "    </tr>\n",
       "    <tr>\n",
       "      <th>2010-04-26</th>\n",
       "      <td>92.216194</td>\n",
       "      <td>51.633072</td>\n",
       "      <td>112.750000</td>\n",
       "      <td>44.012695</td>\n",
       "      <td>47.539925</td>\n",
       "    </tr>\n",
       "    <tr>\n",
       "      <th>2010-04-27</th>\n",
       "      <td>90.035225</td>\n",
       "      <td>51.821922</td>\n",
       "      <td>114.629997</td>\n",
       "      <td>43.078468</td>\n",
       "      <td>46.394382</td>\n",
       "    </tr>\n",
       "    <tr>\n",
       "      <th>2010-04-28</th>\n",
       "      <td>90.719177</td>\n",
       "      <td>51.789383</td>\n",
       "      <td>114.309998</td>\n",
       "      <td>43.104660</td>\n",
       "      <td>46.699871</td>\n",
       "    </tr>\n",
       "    <tr>\n",
       "      <th>...</th>\n",
       "      <td>...</td>\n",
       "      <td>...</td>\n",
       "      <td>...</td>\n",
       "      <td>...</td>\n",
       "      <td>...</td>\n",
       "    </tr>\n",
       "    <tr>\n",
       "      <th>2025-04-11</th>\n",
       "      <td>533.940002</td>\n",
       "      <td>72.019997</td>\n",
       "      <td>297.929993</td>\n",
       "      <td>454.399994</td>\n",
       "      <td>261.739990</td>\n",
       "    </tr>\n",
       "    <tr>\n",
       "      <th>2025-04-14</th>\n",
       "      <td>539.119995</td>\n",
       "      <td>72.430000</td>\n",
       "      <td>296.230011</td>\n",
       "      <td>457.480011</td>\n",
       "      <td>264.149994</td>\n",
       "    </tr>\n",
       "    <tr>\n",
       "      <th>2025-04-15</th>\n",
       "      <td>537.609985</td>\n",
       "      <td>72.610001</td>\n",
       "      <td>297.779999</td>\n",
       "      <td>457.989990</td>\n",
       "      <td>263.690002</td>\n",
       "    </tr>\n",
       "    <tr>\n",
       "      <th>2025-04-16</th>\n",
       "      <td>525.659973</td>\n",
       "      <td>72.809998</td>\n",
       "      <td>307.470001</td>\n",
       "      <td>444.179993</td>\n",
       "      <td>258.209991</td>\n",
       "    </tr>\n",
       "    <tr>\n",
       "      <th>2025-04-17</th>\n",
       "      <td>526.409973</td>\n",
       "      <td>72.650002</td>\n",
       "      <td>306.119995</td>\n",
       "      <td>444.100006</td>\n",
       "      <td>258.750000</td>\n",
       "    </tr>\n",
       "  </tbody>\n",
       "</table>\n",
       "<p>3772 rows × 5 columns</p>\n",
       "</div>"
      ],
      "text/plain": [
       "                   SPY        BND         GLD         QQQ         VTI\n",
       "Date                                                                 \n",
       "2010-04-22   91.965446  51.698235  111.839996   43.925362   47.387177\n",
       "2010-04-23   92.565788  51.659168  113.190002   44.108707   47.707928\n",
       "2010-04-26   92.216194  51.633072  112.750000   44.012695   47.539925\n",
       "2010-04-27   90.035225  51.821922  114.629997   43.078468   46.394382\n",
       "2010-04-28   90.719177  51.789383  114.309998   43.104660   46.699871\n",
       "...                ...        ...         ...         ...         ...\n",
       "2025-04-11  533.940002  72.019997  297.929993  454.399994  261.739990\n",
       "2025-04-14  539.119995  72.430000  296.230011  457.480011  264.149994\n",
       "2025-04-15  537.609985  72.610001  297.779999  457.989990  263.690002\n",
       "2025-04-16  525.659973  72.809998  307.470001  444.179993  258.209991\n",
       "2025-04-17  526.409973  72.650002  306.119995  444.100006  258.750000\n",
       "\n",
       "[3772 rows x 5 columns]"
      ]
     },
     "execution_count": 28,
     "metadata": {},
     "output_type": "execute_result"
    }
   ],
   "source": [
    "adj_close_df = pd.DataFrame()\n",
    "for ticker in tickers:\n",
    "    data = yf.download(ticker, start=startDate, end=endDate)\n",
    "    adj_close_df[ticker] = data['Close']\n",
    "\n",
    "adj_close_df"
   ]
  },
  {
   "cell_type": "code",
   "execution_count": 29,
   "id": "cff3a176",
   "metadata": {},
   "outputs": [
    {
     "data": {
      "text/html": [
       "<div>\n",
       "<style scoped>\n",
       "    .dataframe tbody tr th:only-of-type {\n",
       "        vertical-align: middle;\n",
       "    }\n",
       "\n",
       "    .dataframe tbody tr th {\n",
       "        vertical-align: top;\n",
       "    }\n",
       "\n",
       "    .dataframe thead th {\n",
       "        text-align: right;\n",
       "    }\n",
       "</style>\n",
       "<table border=\"1\" class=\"dataframe\">\n",
       "  <thead>\n",
       "    <tr style=\"text-align: right;\">\n",
       "      <th></th>\n",
       "      <th>SPY</th>\n",
       "      <th>BND</th>\n",
       "      <th>GLD</th>\n",
       "      <th>QQQ</th>\n",
       "      <th>VTI</th>\n",
       "    </tr>\n",
       "    <tr>\n",
       "      <th>Date</th>\n",
       "      <th></th>\n",
       "      <th></th>\n",
       "      <th></th>\n",
       "      <th></th>\n",
       "      <th></th>\n",
       "    </tr>\n",
       "  </thead>\n",
       "  <tbody>\n",
       "    <tr>\n",
       "      <th>2010-04-23</th>\n",
       "      <td>0.006507</td>\n",
       "      <td>-0.000756</td>\n",
       "      <td>0.011999</td>\n",
       "      <td>0.004165</td>\n",
       "      <td>0.006746</td>\n",
       "    </tr>\n",
       "    <tr>\n",
       "      <th>2010-04-26</th>\n",
       "      <td>-0.003784</td>\n",
       "      <td>-0.000505</td>\n",
       "      <td>-0.003895</td>\n",
       "      <td>-0.002179</td>\n",
       "      <td>-0.003528</td>\n",
       "    </tr>\n",
       "    <tr>\n",
       "      <th>2010-04-27</th>\n",
       "      <td>-0.023935</td>\n",
       "      <td>0.003651</td>\n",
       "      <td>0.016537</td>\n",
       "      <td>-0.021455</td>\n",
       "      <td>-0.024391</td>\n",
       "    </tr>\n",
       "    <tr>\n",
       "      <th>2010-04-28</th>\n",
       "      <td>0.007568</td>\n",
       "      <td>-0.000628</td>\n",
       "      <td>-0.002795</td>\n",
       "      <td>0.000608</td>\n",
       "      <td>0.006563</td>\n",
       "    </tr>\n",
       "    <tr>\n",
       "      <th>2010-04-29</th>\n",
       "      <td>0.012321</td>\n",
       "      <td>0.000377</td>\n",
       "      <td>-0.000262</td>\n",
       "      <td>0.017269</td>\n",
       "      <td>0.012997</td>\n",
       "    </tr>\n",
       "    <tr>\n",
       "      <th>...</th>\n",
       "      <td>...</td>\n",
       "      <td>...</td>\n",
       "      <td>...</td>\n",
       "      <td>...</td>\n",
       "      <td>...</td>\n",
       "    </tr>\n",
       "    <tr>\n",
       "      <th>2025-04-11</th>\n",
       "      <td>0.017686</td>\n",
       "      <td>-0.001110</td>\n",
       "      <td>0.018907</td>\n",
       "      <td>0.018255</td>\n",
       "      <td>0.016604</td>\n",
       "    </tr>\n",
       "    <tr>\n",
       "      <th>2025-04-14</th>\n",
       "      <td>0.009655</td>\n",
       "      <td>0.005677</td>\n",
       "      <td>-0.005722</td>\n",
       "      <td>0.006755</td>\n",
       "      <td>0.009165</td>\n",
       "    </tr>\n",
       "    <tr>\n",
       "      <th>2025-04-15</th>\n",
       "      <td>-0.002805</td>\n",
       "      <td>0.002482</td>\n",
       "      <td>0.005219</td>\n",
       "      <td>0.001114</td>\n",
       "      <td>-0.001743</td>\n",
       "    </tr>\n",
       "    <tr>\n",
       "      <th>2025-04-16</th>\n",
       "      <td>-0.022479</td>\n",
       "      <td>0.002751</td>\n",
       "      <td>0.032023</td>\n",
       "      <td>-0.030617</td>\n",
       "      <td>-0.021001</td>\n",
       "    </tr>\n",
       "    <tr>\n",
       "      <th>2025-04-17</th>\n",
       "      <td>0.001426</td>\n",
       "      <td>-0.002200</td>\n",
       "      <td>-0.004400</td>\n",
       "      <td>-0.000180</td>\n",
       "      <td>0.002089</td>\n",
       "    </tr>\n",
       "  </tbody>\n",
       "</table>\n",
       "<p>3771 rows × 5 columns</p>\n",
       "</div>"
      ],
      "text/plain": [
       "                 SPY       BND       GLD       QQQ       VTI\n",
       "Date                                                        \n",
       "2010-04-23  0.006507 -0.000756  0.011999  0.004165  0.006746\n",
       "2010-04-26 -0.003784 -0.000505 -0.003895 -0.002179 -0.003528\n",
       "2010-04-27 -0.023935  0.003651  0.016537 -0.021455 -0.024391\n",
       "2010-04-28  0.007568 -0.000628 -0.002795  0.000608  0.006563\n",
       "2010-04-29  0.012321  0.000377 -0.000262  0.017269  0.012997\n",
       "...              ...       ...       ...       ...       ...\n",
       "2025-04-11  0.017686 -0.001110  0.018907  0.018255  0.016604\n",
       "2025-04-14  0.009655  0.005677 -0.005722  0.006755  0.009165\n",
       "2025-04-15 -0.002805  0.002482  0.005219  0.001114 -0.001743\n",
       "2025-04-16 -0.022479  0.002751  0.032023 -0.030617 -0.021001\n",
       "2025-04-17  0.001426 -0.002200 -0.004400 -0.000180  0.002089\n",
       "\n",
       "[3771 rows x 5 columns]"
      ]
     },
     "execution_count": 29,
     "metadata": {},
     "output_type": "execute_result"
    }
   ],
   "source": [
    "log_returns = np.log(adj_close_df / adj_close_df.shift(1))\n",
    "log_returns = log_returns.dropna()\n",
    "log_returns"
   ]
  },
  {
   "cell_type": "code",
   "execution_count": 30,
   "id": "bed301bb",
   "metadata": {},
   "outputs": [
    {
     "data": {
      "text/plain": [
       "array([0.2, 0.2, 0.2, 0.2, 0.2])"
      ]
     },
     "execution_count": 30,
     "metadata": {},
     "output_type": "execute_result"
    }
   ],
   "source": [
    "portfolio_value = 1000000\n",
    "weights = np.array([1/len(tickers)] * len(tickers))\n",
    "weights"
   ]
  },
  {
   "cell_type": "code",
   "execution_count": 31,
   "id": "3a04919b",
   "metadata": {},
   "outputs": [
    {
     "data": {
      "text/plain": [
       "Date\n",
       "2010-04-23    0.005732\n",
       "2010-04-26   -0.002778\n",
       "2010-04-27   -0.009919\n",
       "2010-04-28    0.002263\n",
       "2010-04-29    0.008540\n",
       "                ...   \n",
       "2025-04-11    0.014068\n",
       "2025-04-14    0.005106\n",
       "2025-04-15    0.000853\n",
       "2025-04-16   -0.007865\n",
       "2025-04-17   -0.000653\n",
       "Length: 3771, dtype: float64"
      ]
     },
     "execution_count": 31,
     "metadata": {},
     "output_type": "execute_result"
    }
   ],
   "source": [
    "historical_returns = (log_returns * weights).sum(axis=1)\n",
    "historical_returns"
   ]
  },
  {
   "cell_type": "code",
   "execution_count": 32,
   "id": "85919dcb",
   "metadata": {},
   "outputs": [
    {
     "data": {
      "text/plain": [
       "Date\n",
       "2010-04-23         NaN\n",
       "2010-04-26         NaN\n",
       "2010-04-27         NaN\n",
       "2010-04-28         NaN\n",
       "2010-04-29    0.003839\n",
       "                ...   \n",
       "2025-04-11    0.043594\n",
       "2025-04-14    0.055997\n",
       "2025-04-15    0.066895\n",
       "2025-04-16   -0.010674\n",
       "2025-04-17    0.011510\n",
       "Length: 3771, dtype: float64"
      ]
     },
     "execution_count": 32,
     "metadata": {},
     "output_type": "execute_result"
    }
   ],
   "source": [
    "days = 5\n",
    "historical_x_day_returns = historical_returns.rolling(window=days).sum()\n",
    "historical_x_day_returns"
   ]
  },
  {
   "cell_type": "code",
   "execution_count": 33,
   "id": "89fc8c0d",
   "metadata": {},
   "outputs": [
    {
     "data": {
      "text/html": [
       "<div>\n",
       "<style scoped>\n",
       "    .dataframe tbody tr th:only-of-type {\n",
       "        vertical-align: middle;\n",
       "    }\n",
       "\n",
       "    .dataframe tbody tr th {\n",
       "        vertical-align: top;\n",
       "    }\n",
       "\n",
       "    .dataframe thead th {\n",
       "        text-align: right;\n",
       "    }\n",
       "</style>\n",
       "<table border=\"1\" class=\"dataframe\">\n",
       "  <thead>\n",
       "    <tr style=\"text-align: right;\">\n",
       "      <th></th>\n",
       "      <th>SPY</th>\n",
       "      <th>BND</th>\n",
       "      <th>GLD</th>\n",
       "      <th>QQQ</th>\n",
       "      <th>VTI</th>\n",
       "    </tr>\n",
       "  </thead>\n",
       "  <tbody>\n",
       "    <tr>\n",
       "      <th>SPY</th>\n",
       "      <td>0.030629</td>\n",
       "      <td>0.000073</td>\n",
       "      <td>0.001431</td>\n",
       "      <td>0.034179</td>\n",
       "      <td>0.031213</td>\n",
       "    </tr>\n",
       "    <tr>\n",
       "      <th>BND</th>\n",
       "      <td>0.000073</td>\n",
       "      <td>0.002397</td>\n",
       "      <td>0.002291</td>\n",
       "      <td>0.000272</td>\n",
       "      <td>0.000122</td>\n",
       "    </tr>\n",
       "    <tr>\n",
       "      <th>GLD</th>\n",
       "      <td>0.001431</td>\n",
       "      <td>0.002291</td>\n",
       "      <td>0.024117</td>\n",
       "      <td>0.001815</td>\n",
       "      <td>0.001567</td>\n",
       "    </tr>\n",
       "    <tr>\n",
       "      <th>QQQ</th>\n",
       "      <td>0.034179</td>\n",
       "      <td>0.000272</td>\n",
       "      <td>0.001815</td>\n",
       "      <td>0.043936</td>\n",
       "      <td>0.034837</td>\n",
       "    </tr>\n",
       "    <tr>\n",
       "      <th>VTI</th>\n",
       "      <td>0.031213</td>\n",
       "      <td>0.000122</td>\n",
       "      <td>0.001567</td>\n",
       "      <td>0.034837</td>\n",
       "      <td>0.032056</td>\n",
       "    </tr>\n",
       "  </tbody>\n",
       "</table>\n",
       "</div>"
      ],
      "text/plain": [
       "          SPY       BND       GLD       QQQ       VTI\n",
       "SPY  0.030629  0.000073  0.001431  0.034179  0.031213\n",
       "BND  0.000073  0.002397  0.002291  0.000272  0.000122\n",
       "GLD  0.001431  0.002291  0.024117  0.001815  0.001567\n",
       "QQQ  0.034179  0.000272  0.001815  0.043936  0.034837\n",
       "VTI  0.031213  0.000122  0.001567  0.034837  0.032056"
      ]
     },
     "execution_count": 33,
     "metadata": {},
     "output_type": "execute_result"
    }
   ],
   "source": [
    "cov_matrix = log_returns.cov() * 252\n",
    "cov_matrix"
   ]
  },
  {
   "cell_type": "code",
   "execution_count": 34,
   "id": "84470375",
   "metadata": {},
   "outputs": [
    {
     "data": {
      "text/plain": [
       "0.11810717111724954"
      ]
     },
     "execution_count": 34,
     "metadata": {},
     "output_type": "execute_result"
    }
   ],
   "source": [
    "portfolio_std_dev = np.sqrt(weights.T @ cov_matrix @ weights)\n",
    "portfolio_std_dev"
   ]
  },
  {
   "cell_type": "code",
   "execution_count": null,
   "id": "5bce1208",
   "metadata": {},
   "outputs": [
    {
     "data": {
      "text/plain": [
       "[-23204.037005055838, -29248.098318597626, -40585.752165876984]"
      ]
     },
     "execution_count": 38,
     "metadata": {},
     "output_type": "execute_result"
    }
   ],
   "source": [
    "# confidence_levels = [0.90, 0.95, 0.99]\n",
    "\n",
    "# VaRs = []\n",
    "# for cl in confidence_levels:\n",
    "#     VaR = portfolio_value * (norm.ppf(1 - cl) * portfolio_std_dev * np.sqrt(days / 252) - historical_returns.mean() * days)\n",
    "#     VaRs.append(VaR)\n",
    "# VaRs"
   ]
  },
  {
   "cell_type": "code",
   "execution_count": 41,
   "id": "02cdb102",
   "metadata": {},
   "outputs": [
    {
     "data": {
      "text/plain": [
       "[21320.485242010032, 27364.546555551824, 38702.20040283118]"
      ]
     },
     "execution_count": 41,
     "metadata": {},
     "output_type": "execute_result"
    }
   ],
   "source": [
    "confidence_levels = [0.90, 0.95, 0.99]\n",
    "\n",
    "VaRs = []\n",
    "for cl in confidence_levels:\n",
    "    VaR = portfolio_value * portfolio_std_dev * norm._ppf(cl) * np.sqrt(days / 252)\n",
    "    VaRs.append(VaR)\n",
    "VaRs"
   ]
  },
  {
   "cell_type": "code",
   "execution_count": 42,
   "id": "6b9ac218",
   "metadata": {},
   "outputs": [
    {
     "name": "stdout",
     "output_type": "stream",
     "text": [
      "Confidence Level     Value at Risk       \n",
      "----------------------------------------\n",
      "    90%:          $ 21,320.49\n",
      "    95%:          $ 27,364.55\n",
      "    99%:          $ 38,702.20\n"
     ]
    }
   ],
   "source": [
    "print(f'{\"Confidence Level\":<20} {\"Value at Risk\":<20}')\n",
    "print('-' * 40)\n",
    "\n",
    "for cl, VaR in zip(confidence_levels, VaRs):\n",
    "    print(f'{cl * 100:>6.0f}%: {\"\":<8} ${VaR:>10,.2f}')"
   ]
  },
  {
   "cell_type": "code",
   "execution_count": 43,
   "id": "ffb9034e",
   "metadata": {},
   "outputs": [
    {
     "data": {
      "image/png": "[encoded data removed]",
      "text/plain": [
       "<Figure size 640x480 with 1 Axes>"
      ]
     },
     "metadata": {},
     "output_type": "display_data"
    }
   ],
   "source": [
    "# Convert returns to dollar values for the histogram\n",
    "historical_x_day_returns_dollar = historical_x_day_returns * portfolio_value\n",
    "\n",
    "# Plot the histogram\n",
    "plt.hist(historical_x_day_returns_dollar, bins=50, density=True, alpha=0.5, label=f'{days}-Day Returns')\n",
    "\n",
    "# Add vertical lines representing VaR at each confidence level\n",
    "for cl, VaR in zip(confidence_levels, VaRs):\n",
    "    plt.axvline(x=-VaR, linestyle='--', color='r', label='VaR at {}% Confidence'.format(int(cl * 100)))\n",
    "\n",
    "plt.xlabel(f'{days}-Day Portfolio Return ($)')\n",
    "plt.ylabel('Frequency')\n",
    "plt.title(f'Distribution of Portfolio {days}-Day Returns and Parametric VaR Estimates')\n",
    "plt.legend()\n",
    "plt.show()"
   ]
  },
  {
   "cell_type": "markdown",
   "id": "e396f66e",
   "metadata": {},
   "source": [
    "### 3 Monte Carlo Method with Python"
   ]
  },
  {
   "cell_type": "code",
   "execution_count": 44,
   "id": "95b2e2a6",
   "metadata": {},
   "outputs": [],
   "source": [
    "import numpy as np\n",
    "import pandas as pd\n",
    "import datetime as dt\n",
    "import yfinance as yf\n",
    "import matplotlib.pyplot as plt\n",
    "from scipy.stats import norm"
   ]
  },
  {
   "cell_type": "code",
   "execution_count": 45,
   "id": "1e50aa13",
   "metadata": {},
   "outputs": [],
   "source": [
    "### Set time from to a certain number of years\n",
    "years = 15\n",
    "\n",
    "endDate = dt.datetime.now()\n",
    "startDate = endDate - dt.timedelta(days = 365*years)\n",
    "\n",
    "### Create a list of tickers\n",
    "tickers = ['SPY','BND','GLD','QQQ','VTI']"
   ]
  },
  {
   "cell_type": "code",
   "execution_count": 46,
   "id": "57391b11",
   "metadata": {},
   "outputs": [
    {
     "name": "stderr",
     "output_type": "stream",
     "text": [
      "[*********************100%***********************]  1 of 1 completed\n",
      "[*********************100%***********************]  1 of 1 completed\n",
      "[*********************100%***********************]  1 of 1 completed\n",
      "[*********************100%***********************]  1 of 1 completed\n",
      "[*********************100%***********************]  1 of 1 completed\n"
     ]
    },
    {
     "data": {
      "text/html": [
       "<div>\n",
       "<style scoped>\n",
       "    .dataframe tbody tr th:only-of-type {\n",
       "        vertical-align: middle;\n",
       "    }\n",
       "\n",
       "    .dataframe tbody tr th {\n",
       "        vertical-align: top;\n",
       "    }\n",
       "\n",
       "    .dataframe thead th {\n",
       "        text-align: right;\n",
       "    }\n",
       "</style>\n",
       "<table border=\"1\" class=\"dataframe\">\n",
       "  <thead>\n",
       "    <tr style=\"text-align: right;\">\n",
       "      <th></th>\n",
       "      <th>SPY</th>\n",
       "      <th>BND</th>\n",
       "      <th>GLD</th>\n",
       "      <th>QQQ</th>\n",
       "      <th>VTI</th>\n",
       "    </tr>\n",
       "    <tr>\n",
       "      <th>Date</th>\n",
       "      <th></th>\n",
       "      <th></th>\n",
       "      <th></th>\n",
       "      <th></th>\n",
       "      <th></th>\n",
       "    </tr>\n",
       "  </thead>\n",
       "  <tbody>\n",
       "    <tr>\n",
       "      <th>2010-04-22</th>\n",
       "      <td>91.965416</td>\n",
       "      <td>51.698215</td>\n",
       "      <td>111.839996</td>\n",
       "      <td>43.925369</td>\n",
       "      <td>47.387169</td>\n",
       "    </tr>\n",
       "    <tr>\n",
       "      <th>2010-04-23</th>\n",
       "      <td>92.565781</td>\n",
       "      <td>51.659161</td>\n",
       "      <td>113.190002</td>\n",
       "      <td>44.108727</td>\n",
       "      <td>47.707920</td>\n",
       "    </tr>\n",
       "    <tr>\n",
       "      <th>2010-04-26</th>\n",
       "      <td>92.216194</td>\n",
       "      <td>51.633121</td>\n",
       "      <td>112.750000</td>\n",
       "      <td>44.012684</td>\n",
       "      <td>47.539913</td>\n",
       "    </tr>\n",
       "    <tr>\n",
       "      <th>2010-04-27</th>\n",
       "      <td>90.035233</td>\n",
       "      <td>51.821907</td>\n",
       "      <td>114.629997</td>\n",
       "      <td>43.078468</td>\n",
       "      <td>46.394375</td>\n",
       "    </tr>\n",
       "    <tr>\n",
       "      <th>2010-04-28</th>\n",
       "      <td>90.719177</td>\n",
       "      <td>51.789364</td>\n",
       "      <td>114.309998</td>\n",
       "      <td>43.104652</td>\n",
       "      <td>46.699863</td>\n",
       "    </tr>\n",
       "    <tr>\n",
       "      <th>...</th>\n",
       "      <td>...</td>\n",
       "      <td>...</td>\n",
       "      <td>...</td>\n",
       "      <td>...</td>\n",
       "      <td>...</td>\n",
       "    </tr>\n",
       "    <tr>\n",
       "      <th>2025-04-11</th>\n",
       "      <td>533.940002</td>\n",
       "      <td>72.019997</td>\n",
       "      <td>297.929993</td>\n",
       "      <td>454.399994</td>\n",
       "      <td>261.739990</td>\n",
       "    </tr>\n",
       "    <tr>\n",
       "      <th>2025-04-14</th>\n",
       "      <td>539.119995</td>\n",
       "      <td>72.430000</td>\n",
       "      <td>296.230011</td>\n",
       "      <td>457.480011</td>\n",
       "      <td>264.149994</td>\n",
       "    </tr>\n",
       "    <tr>\n",
       "      <th>2025-04-15</th>\n",
       "      <td>537.609985</td>\n",
       "      <td>72.610001</td>\n",
       "      <td>297.779999</td>\n",
       "      <td>457.989990</td>\n",
       "      <td>263.690002</td>\n",
       "    </tr>\n",
       "    <tr>\n",
       "      <th>2025-04-16</th>\n",
       "      <td>525.659973</td>\n",
       "      <td>72.809998</td>\n",
       "      <td>307.470001</td>\n",
       "      <td>444.179993</td>\n",
       "      <td>258.209991</td>\n",
       "    </tr>\n",
       "    <tr>\n",
       "      <th>2025-04-17</th>\n",
       "      <td>526.409973</td>\n",
       "      <td>72.650002</td>\n",
       "      <td>306.119995</td>\n",
       "      <td>444.100006</td>\n",
       "      <td>258.750000</td>\n",
       "    </tr>\n",
       "  </tbody>\n",
       "</table>\n",
       "<p>3772 rows × 5 columns</p>\n",
       "</div>"
      ],
      "text/plain": [
       "                   SPY        BND         GLD         QQQ         VTI\n",
       "Date                                                                 \n",
       "2010-04-22   91.965416  51.698215  111.839996   43.925369   47.387169\n",
       "2010-04-23   92.565781  51.659161  113.190002   44.108727   47.707920\n",
       "2010-04-26   92.216194  51.633121  112.750000   44.012684   47.539913\n",
       "2010-04-27   90.035233  51.821907  114.629997   43.078468   46.394375\n",
       "2010-04-28   90.719177  51.789364  114.309998   43.104652   46.699863\n",
       "...                ...        ...         ...         ...         ...\n",
       "2025-04-11  533.940002  72.019997  297.929993  454.399994  261.739990\n",
       "2025-04-14  539.119995  72.430000  296.230011  457.480011  264.149994\n",
       "2025-04-15  537.609985  72.610001  297.779999  457.989990  263.690002\n",
       "2025-04-16  525.659973  72.809998  307.470001  444.179993  258.209991\n",
       "2025-04-17  526.409973  72.650002  306.119995  444.100006  258.750000\n",
       "\n",
       "[3772 rows x 5 columns]"
      ]
     },
     "execution_count": 46,
     "metadata": {},
     "output_type": "execute_result"
    }
   ],
   "source": [
    "### Download the daily adjusted close prices for the tickers\n",
    "adj_close_df = pd.DataFrame()\n",
    "\n",
    "for ticker in tickers:\n",
    "    data = yf.download(ticker, start = startDate, end = endDate)\n",
    "    adj_close_df[ticker] = data['Close']\n",
    "\n",
    "adj_close_df"
   ]
  },
  {
   "cell_type": "code",
   "execution_count": 47,
   "id": "56c322c8",
   "metadata": {},
   "outputs": [
    {
     "data": {
      "text/html": [
       "<div>\n",
       "<style scoped>\n",
       "    .dataframe tbody tr th:only-of-type {\n",
       "        vertical-align: middle;\n",
       "    }\n",
       "\n",
       "    .dataframe tbody tr th {\n",
       "        vertical-align: top;\n",
       "    }\n",
       "\n",
       "    .dataframe thead th {\n",
       "        text-align: right;\n",
       "    }\n",
       "</style>\n",
       "<table border=\"1\" class=\"dataframe\">\n",
       "  <thead>\n",
       "    <tr style=\"text-align: right;\">\n",
       "      <th></th>\n",
       "      <th>SPY</th>\n",
       "      <th>BND</th>\n",
       "      <th>GLD</th>\n",
       "      <th>QQQ</th>\n",
       "      <th>VTI</th>\n",
       "    </tr>\n",
       "    <tr>\n",
       "      <th>Date</th>\n",
       "      <th></th>\n",
       "      <th></th>\n",
       "      <th></th>\n",
       "      <th></th>\n",
       "      <th></th>\n",
       "    </tr>\n",
       "  </thead>\n",
       "  <tbody>\n",
       "    <tr>\n",
       "      <th>2010-04-23</th>\n",
       "      <td>0.006507</td>\n",
       "      <td>-0.000756</td>\n",
       "      <td>0.011999</td>\n",
       "      <td>0.004166</td>\n",
       "      <td>0.006746</td>\n",
       "    </tr>\n",
       "    <tr>\n",
       "      <th>2010-04-26</th>\n",
       "      <td>-0.003784</td>\n",
       "      <td>-0.000504</td>\n",
       "      <td>-0.003895</td>\n",
       "      <td>-0.002180</td>\n",
       "      <td>-0.003528</td>\n",
       "    </tr>\n",
       "    <tr>\n",
       "      <th>2010-04-27</th>\n",
       "      <td>-0.023935</td>\n",
       "      <td>0.003650</td>\n",
       "      <td>0.016537</td>\n",
       "      <td>-0.021455</td>\n",
       "      <td>-0.024391</td>\n",
       "    </tr>\n",
       "    <tr>\n",
       "      <th>2010-04-28</th>\n",
       "      <td>0.007568</td>\n",
       "      <td>-0.000628</td>\n",
       "      <td>-0.002795</td>\n",
       "      <td>0.000608</td>\n",
       "      <td>0.006563</td>\n",
       "    </tr>\n",
       "    <tr>\n",
       "      <th>2010-04-29</th>\n",
       "      <td>0.012321</td>\n",
       "      <td>0.000377</td>\n",
       "      <td>-0.000262</td>\n",
       "      <td>0.017270</td>\n",
       "      <td>0.012997</td>\n",
       "    </tr>\n",
       "    <tr>\n",
       "      <th>...</th>\n",
       "      <td>...</td>\n",
       "      <td>...</td>\n",
       "      <td>...</td>\n",
       "      <td>...</td>\n",
       "      <td>...</td>\n",
       "    </tr>\n",
       "    <tr>\n",
       "      <th>2025-04-11</th>\n",
       "      <td>0.017686</td>\n",
       "      <td>-0.001110</td>\n",
       "      <td>0.018907</td>\n",
       "      <td>0.018255</td>\n",
       "      <td>0.016604</td>\n",
       "    </tr>\n",
       "    <tr>\n",
       "      <th>2025-04-14</th>\n",
       "      <td>0.009655</td>\n",
       "      <td>0.005677</td>\n",
       "      <td>-0.005722</td>\n",
       "      <td>0.006755</td>\n",
       "      <td>0.009165</td>\n",
       "    </tr>\n",
       "    <tr>\n",
       "      <th>2025-04-15</th>\n",
       "      <td>-0.002805</td>\n",
       "      <td>0.002482</td>\n",
       "      <td>0.005219</td>\n",
       "      <td>0.001114</td>\n",
       "      <td>-0.001743</td>\n",
       "    </tr>\n",
       "    <tr>\n",
       "      <th>2025-04-16</th>\n",
       "      <td>-0.022479</td>\n",
       "      <td>0.002751</td>\n",
       "      <td>0.032023</td>\n",
       "      <td>-0.030617</td>\n",
       "      <td>-0.021001</td>\n",
       "    </tr>\n",
       "    <tr>\n",
       "      <th>2025-04-17</th>\n",
       "      <td>0.001426</td>\n",
       "      <td>-0.002200</td>\n",
       "      <td>-0.004400</td>\n",
       "      <td>-0.000180</td>\n",
       "      <td>0.002089</td>\n",
       "    </tr>\n",
       "  </tbody>\n",
       "</table>\n",
       "<p>3771 rows × 5 columns</p>\n",
       "</div>"
      ],
      "text/plain": [
       "                 SPY       BND       GLD       QQQ       VTI\n",
       "Date                                                        \n",
       "2010-04-23  0.006507 -0.000756  0.011999  0.004166  0.006746\n",
       "2010-04-26 -0.003784 -0.000504 -0.003895 -0.002180 -0.003528\n",
       "2010-04-27 -0.023935  0.003650  0.016537 -0.021455 -0.024391\n",
       "2010-04-28  0.007568 -0.000628 -0.002795  0.000608  0.006563\n",
       "2010-04-29  0.012321  0.000377 -0.000262  0.017270  0.012997\n",
       "...              ...       ...       ...       ...       ...\n",
       "2025-04-11  0.017686 -0.001110  0.018907  0.018255  0.016604\n",
       "2025-04-14  0.009655  0.005677 -0.005722  0.006755  0.009165\n",
       "2025-04-15 -0.002805  0.002482  0.005219  0.001114 -0.001743\n",
       "2025-04-16 -0.022479  0.002751  0.032023 -0.030617 -0.021001\n",
       "2025-04-17  0.001426 -0.002200 -0.004400 -0.000180  0.002089\n",
       "\n",
       "[3771 rows x 5 columns]"
      ]
     },
     "execution_count": 47,
     "metadata": {},
     "output_type": "execute_result"
    }
   ],
   "source": [
    "### Calculate the daily log returns and drop any NAs\n",
    "log_returns = np.log(adj_close_df/adj_close_df.shift(1))\n",
    "log_returns  = log_returns.dropna()\n",
    "\n",
    "log_returns"
   ]
  },
  {
   "cell_type": "code",
   "execution_count": 55,
   "id": "1e549495",
   "metadata": {},
   "outputs": [],
   "source": [
    "### Create a function that will be used to calculate portfolio expected return\n",
    "# We are assuming that future returns are based on past returns, which is not a reliable assumption.\n",
    "def expected_return(weights, log_returns):\n",
    "    return np.sum(log_returns.mean()*weights)"
   ]
  },
  {
   "cell_type": "code",
   "execution_count": 56,
   "id": "b4c512f1",
   "metadata": {},
   "outputs": [],
   "source": [
    "### Create a function that will be used to calculate portfolio standard deviation\n",
    "def standard_deviation (weights, cov_matrix):\n",
    "    variance = weights.T @ cov_matrix @ weights\n",
    "    return np.sqrt(variance)"
   ]
  },
  {
   "cell_type": "code",
   "execution_count": 49,
   "id": "b53cc67a",
   "metadata": {},
   "outputs": [
    {
     "data": {
      "text/html": [
       "<div>\n",
       "<style scoped>\n",
       "    .dataframe tbody tr th:only-of-type {\n",
       "        vertical-align: middle;\n",
       "    }\n",
       "\n",
       "    .dataframe tbody tr th {\n",
       "        vertical-align: top;\n",
       "    }\n",
       "\n",
       "    .dataframe thead th {\n",
       "        text-align: right;\n",
       "    }\n",
       "</style>\n",
       "<table border=\"1\" class=\"dataframe\">\n",
       "  <thead>\n",
       "    <tr style=\"text-align: right;\">\n",
       "      <th></th>\n",
       "      <th>SPY</th>\n",
       "      <th>BND</th>\n",
       "      <th>GLD</th>\n",
       "      <th>QQQ</th>\n",
       "      <th>VTI</th>\n",
       "    </tr>\n",
       "  </thead>\n",
       "  <tbody>\n",
       "    <tr>\n",
       "      <th>SPY</th>\n",
       "      <td>1.215426e-04</td>\n",
       "      <td>2.898827e-07</td>\n",
       "      <td>0.000006</td>\n",
       "      <td>0.000136</td>\n",
       "      <td>1.238592e-04</td>\n",
       "    </tr>\n",
       "    <tr>\n",
       "      <th>BND</th>\n",
       "      <td>2.898827e-07</td>\n",
       "      <td>9.512777e-06</td>\n",
       "      <td>0.000009</td>\n",
       "      <td>0.000001</td>\n",
       "      <td>4.828705e-07</td>\n",
       "    </tr>\n",
       "    <tr>\n",
       "      <th>GLD</th>\n",
       "      <td>5.680381e-06</td>\n",
       "      <td>9.089360e-06</td>\n",
       "      <td>0.000096</td>\n",
       "      <td>0.000007</td>\n",
       "      <td>6.216567e-06</td>\n",
       "    </tr>\n",
       "    <tr>\n",
       "      <th>QQQ</th>\n",
       "      <td>1.356305e-04</td>\n",
       "      <td>1.080292e-06</td>\n",
       "      <td>0.000007</td>\n",
       "      <td>0.000174</td>\n",
       "      <td>1.382435e-04</td>\n",
       "    </tr>\n",
       "    <tr>\n",
       "      <th>VTI</th>\n",
       "      <td>1.238592e-04</td>\n",
       "      <td>4.828705e-07</td>\n",
       "      <td>0.000006</td>\n",
       "      <td>0.000138</td>\n",
       "      <td>1.272067e-04</td>\n",
       "    </tr>\n",
       "  </tbody>\n",
       "</table>\n",
       "</div>"
      ],
      "text/plain": [
       "              SPY           BND       GLD       QQQ           VTI\n",
       "SPY  1.215426e-04  2.898827e-07  0.000006  0.000136  1.238592e-04\n",
       "BND  2.898827e-07  9.512777e-06  0.000009  0.000001  4.828705e-07\n",
       "GLD  5.680381e-06  9.089360e-06  0.000096  0.000007  6.216567e-06\n",
       "QQQ  1.356305e-04  1.080292e-06  0.000007  0.000174  1.382435e-04\n",
       "VTI  1.238592e-04  4.828705e-07  0.000006  0.000138  1.272067e-04"
      ]
     },
     "execution_count": 49,
     "metadata": {},
     "output_type": "execute_result"
    }
   ],
   "source": [
    "### Create a covariance matrix for all the securities\n",
    "cov_matrix = log_returns.cov()\n",
    "cov_matrix"
   ]
  },
  {
   "cell_type": "code",
   "execution_count": 50,
   "id": "fe5db285",
   "metadata": {},
   "outputs": [],
   "source": [
    "### Create an equally weighted portfolio and find total portfolio expected return and standard deviation\n",
    "portfolio_value = 1000000\n",
    "weights = np.array([1/len(tickers)]*len(tickers))\n",
    "portfolio_expected_return = expected_return(weights, log_returns)\n",
    "portfolio_std_dev = standard_deviation (weights, cov_matrix)"
   ]
  },
  {
   "cell_type": "code",
   "execution_count": 51,
   "id": "6425b4a5",
   "metadata": {},
   "outputs": [],
   "source": [
    "def random_z_score():\n",
    "    return np.random.normal(0, 1)\n",
    "\n",
    "### Create a function to calculate scenarioGainLoss\n",
    "days = 20\n",
    "\n",
    "def scenario_gain_loss(portfolio_value, portfolio_std_dev, z_score, days):\n",
    "    return portfolio_value * portfolio_expected_return * days + portfolio_value * portfolio_std_dev * z_score * np.sqrt(days)"
   ]
  },
  {
   "cell_type": "code",
   "execution_count": 52,
   "id": "9829daf4",
   "metadata": {},
   "outputs": [],
   "source": [
    "### Run 10000 simulations\n",
    "simulations = 10000\n",
    "scenarioReturn = []\n",
    "\n",
    "for i in range(simulations):\n",
    "    z_score = random_z_score()\n",
    "    scenarioReturn.append(scenario_gain_loss(portfolio_value, portfolio_std_dev, z_score, days))"
   ]
  },
  {
   "cell_type": "code",
   "execution_count": 53,
   "id": "9cdf2935",
   "metadata": {},
   "outputs": [
    {
     "name": "stdout",
     "output_type": "stream",
     "text": [
      "70187.69053975698\n"
     ]
    }
   ],
   "source": [
    "### Specify a confidence interval and calculate the Value at Risk (VaR)\n",
    "confidence_interval = 0.99\n",
    "VaR = -np.percentile(scenarioReturn, 100 * (1 - confidence_interval))\n",
    "print(VaR)"
   ]
  },
  {
   "cell_type": "code",
   "execution_count": 54,
   "id": "34f0582c",
   "metadata": {},
   "outputs": [
    {
     "data": {
      "image/png": "[encoded data removed]",
      "text/plain": [
       "<Figure size 640x480 with 1 Axes>"
      ]
     },
     "metadata": {},
     "output_type": "display_data"
    }
   ],
   "source": [
    "### Plot the results of all 10000 scenarios\n",
    "plt.hist(scenarioReturn, bins=50, density=True)\n",
    "plt.xlabel('Scenario Gain/Loss ($)')\n",
    "plt.ylabel('Frequency')\n",
    "plt.title(f'Distribution of Portfolio Gain/Loss Over {days} Days')\n",
    "plt.axvline(-VaR, color='r', linestyle='dashed', linewidth=2, label=f'VaR at {confidence_interval:.0%} confidence level')\n",
    "plt.legend()\n",
    "plt.show()"
   ]
  }
 ],
 "metadata": {
  "kernelspec": {
   "display_name": "base",
   "language": "python",
   "name": "python3"
  },
  "language_info": {
   "codemirror_mode": {
    "name": "ipython",
    "version": 3
   },
   "file_extension": ".py",
   "mimetype": "text/x-python",
   "name": "python",
   "nbconvert_exporter": "python",
   "pygments_lexer": "ipython3",
   "version": "3.12.7"
  }
 },
 "nbformat": 4,
 "nbformat_minor": 5
}
