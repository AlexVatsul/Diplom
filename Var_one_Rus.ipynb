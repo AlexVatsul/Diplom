{
 "cells": [
  {
   "cell_type": "markdown",
   "id": "b8610c37",
   "metadata": {},
   "source": [
    "### Расчет VaR для активов Российских компаний\n",
    "Список котировок активов: GAZP, MGNT, MTSS, NLMK, SBER"
   ]
  },
  {
   "cell_type": "code",
   "execution_count": 1,
   "id": "b58ab23f",
   "metadata": {},
   "outputs": [],
   "source": [
    "import numpy as np\n",
    "import pandas as pd\n",
    "import datetime as dt\n",
    "import yfinance as yf\n",
    "import matplotlib.pyplot as plt\n",
    "from scipy.stats import norm"
   ]
  },
  {
   "cell_type": "code",
   "execution_count": 3,
   "id": "410d99b7",
   "metadata": {},
   "outputs": [
    {
     "data": {
      "text/html": [
       "<div>\n",
       "<style scoped>\n",
       "    .dataframe tbody tr th:only-of-type {\n",
       "        vertical-align: middle;\n",
       "    }\n",
       "\n",
       "    .dataframe tbody tr th {\n",
       "        vertical-align: top;\n",
       "    }\n",
       "\n",
       "    .dataframe thead th {\n",
       "        text-align: right;\n",
       "    }\n",
       "</style>\n",
       "<table border=\"1\" class=\"dataframe\">\n",
       "  <thead>\n",
       "    <tr style=\"text-align: right;\">\n",
       "      <th></th>\n",
       "      <th>GAZP</th>\n",
       "      <th>MGNT</th>\n",
       "      <th>MTSS</th>\n",
       "      <th>NLMK</th>\n",
       "      <th>SBER</th>\n",
       "      <th>ret_GAZP</th>\n",
       "      <th>ret_MGNT</th>\n",
       "      <th>ret_MTSS</th>\n",
       "      <th>ret_NLMK</th>\n",
       "      <th>ret_SBER</th>\n",
       "    </tr>\n",
       "    <tr>\n",
       "      <th>date</th>\n",
       "      <th></th>\n",
       "      <th></th>\n",
       "      <th></th>\n",
       "      <th></th>\n",
       "      <th></th>\n",
       "      <th></th>\n",
       "      <th></th>\n",
       "      <th></th>\n",
       "      <th></th>\n",
       "      <th></th>\n",
       "    </tr>\n",
       "  </thead>\n",
       "  <tbody>\n",
       "    <tr>\n",
       "      <th>2015-01-06</th>\n",
       "      <td>138.92</td>\n",
       "      <td>10400.0</td>\n",
       "      <td>179.90</td>\n",
       "      <td>66.700</td>\n",
       "      <td>58.28</td>\n",
       "      <td>0.036432</td>\n",
       "      <td>0.051597</td>\n",
       "      <td>0.029331</td>\n",
       "      <td>0.006241</td>\n",
       "      <td>0.033322</td>\n",
       "    </tr>\n",
       "    <tr>\n",
       "      <th>2015-01-08</th>\n",
       "      <td>146.46</td>\n",
       "      <td>10627.0</td>\n",
       "      <td>190.05</td>\n",
       "      <td>67.410</td>\n",
       "      <td>65.70</td>\n",
       "      <td>0.052854</td>\n",
       "      <td>0.021592</td>\n",
       "      <td>0.054886</td>\n",
       "      <td>0.010588</td>\n",
       "      <td>0.119840</td>\n",
       "    </tr>\n",
       "    <tr>\n",
       "      <th>2015-01-09</th>\n",
       "      <td>141.70</td>\n",
       "      <td>10542.0</td>\n",
       "      <td>195.00</td>\n",
       "      <td>67.900</td>\n",
       "      <td>63.10</td>\n",
       "      <td>-0.033040</td>\n",
       "      <td>-0.008031</td>\n",
       "      <td>0.025712</td>\n",
       "      <td>0.007243</td>\n",
       "      <td>-0.040378</td>\n",
       "    </tr>\n",
       "    <tr>\n",
       "      <th>2015-01-12</th>\n",
       "      <td>140.22</td>\n",
       "      <td>10689.0</td>\n",
       "      <td>193.00</td>\n",
       "      <td>70.120</td>\n",
       "      <td>62.90</td>\n",
       "      <td>-0.010500</td>\n",
       "      <td>0.013848</td>\n",
       "      <td>-0.010309</td>\n",
       "      <td>0.032172</td>\n",
       "      <td>-0.003175</td>\n",
       "    </tr>\n",
       "    <tr>\n",
       "      <th>2015-01-13</th>\n",
       "      <td>142.64</td>\n",
       "      <td>11180.0</td>\n",
       "      <td>204.50</td>\n",
       "      <td>72.505</td>\n",
       "      <td>60.31</td>\n",
       "      <td>0.017111</td>\n",
       "      <td>0.044911</td>\n",
       "      <td>0.057878</td>\n",
       "      <td>0.033447</td>\n",
       "      <td>-0.042048</td>\n",
       "    </tr>\n",
       "  </tbody>\n",
       "</table>\n",
       "</div>"
      ],
      "text/plain": [
       "              GAZP     MGNT    MTSS    NLMK   SBER  ret_GAZP  ret_MGNT  \\\n",
       "date                                                                     \n",
       "2015-01-06  138.92  10400.0  179.90  66.700  58.28  0.036432  0.051597   \n",
       "2015-01-08  146.46  10627.0  190.05  67.410  65.70  0.052854  0.021592   \n",
       "2015-01-09  141.70  10542.0  195.00  67.900  63.10 -0.033040 -0.008031   \n",
       "2015-01-12  140.22  10689.0  193.00  70.120  62.90 -0.010500  0.013848   \n",
       "2015-01-13  142.64  11180.0  204.50  72.505  60.31  0.017111  0.044911   \n",
       "\n",
       "            ret_MTSS  ret_NLMK  ret_SBER  \n",
       "date                                      \n",
       "2015-01-06  0.029331  0.006241  0.033322  \n",
       "2015-01-08  0.054886  0.010588  0.119840  \n",
       "2015-01-09  0.025712  0.007243 -0.040378  \n",
       "2015-01-12 -0.010309  0.032172 -0.003175  \n",
       "2015-01-13  0.057878  0.033447 -0.042048  "
      ]
     },
     "execution_count": 3,
     "metadata": {},
     "output_type": "execute_result"
    }
   ],
   "source": [
    "portfolio = pd.read_csv('portfolio_2015_2025.csv')\n",
    "portfolio = portfolio.rename(columns={'Unnamed: 0': 'date'})\n",
    "portfolio['date'] = pd.to_datetime(portfolio['date'])\n",
    "portfolio = portfolio.set_index('date')\n",
    "portfolio.head()"
   ]
  },
  {
   "cell_type": "code",
   "execution_count": 8,
   "id": "9bf7f23a",
   "metadata": {},
   "outputs": [],
   "source": [
    "gazp = portfolio['GAZP']\n",
    "mgnt = portfolio['MGNT']\n",
    "mtss = portfolio['MTSS']\n",
    "nlmk = portfolio['NLMK']\n",
    "sber = portfolio['SBER']"
   ]
  },
  {
   "cell_type": "code",
   "execution_count": 14,
   "id": "d0c4abd9",
   "metadata": {},
   "outputs": [],
   "source": [
    "gazp_log = portfolio['ret_GAZP']\n",
    "mgnt_log = portfolio['ret_MGNT']\n",
    "mtss_log = portfolio['ret_MTSS']\n",
    "nlmk_log = portfolio['ret_NLMK']\n",
    "sber_log = portfolio['ret_SBER']"
   ]
  },
  {
   "cell_type": "code",
   "execution_count": 16,
   "id": "be5c8b76",
   "metadata": {},
   "outputs": [],
   "source": [
    "# gazp_log.plot(title='Цены GAZP', figsize=(10, 5))\n",
    "# plt.show()"
   ]
  },
  {
   "cell_type": "markdown",
   "id": "ce213631",
   "metadata": {},
   "source": [
    "### 1 Параметрический расчет VaR"
   ]
  },
  {
   "cell_type": "code",
   "execution_count": 19,
   "id": "2b281469",
   "metadata": {},
   "outputs": [],
   "source": [
    "position_value = 1_000_000"
   ]
  },
  {
   "cell_type": "code",
   "execution_count": 21,
   "id": "b2d801df",
   "metadata": {},
   "outputs": [],
   "source": [
    "# Параметры распределения\n",
    "mu = gazp_log.mean()\n",
    "sigma = gazp_log.std()\n",
    "\n",
    "# Уровень доверия и квантиль\n",
    "confidence_level = 0.95\n",
    "z = norm.ppf(1 - confidence_level)"
   ]
  },
  {
   "cell_type": "code",
   "execution_count": 23,
   "id": "a42ce060",
   "metadata": {},
   "outputs": [
    {
     "name": "stdout",
     "output_type": "stream",
     "text": [
      "Параметрический VaR дневной (95.0%): $35,797.22\n",
      "Параметрический VaR годовой (95.0%): $568,263.22\n"
     ]
    }
   ],
   "source": [
    "# VaR за день\n",
    "VaR = -(mu + z * sigma) * position_value\n",
    "\n",
    "# VaR за год (252 торговых дня)\n",
    "VaR_annual = VaR * np.sqrt(252)\n",
    "\n",
    "print(f\"Параметрический VaR дневной ({confidence_level*100}%): ${VaR:,.2f}\")\n",
    "print(f\"Параметрический VaR годовой ({confidence_level*100}%): ${VaR_annual:,.2f}\")"
   ]
  },
  {
   "cell_type": "code",
   "execution_count": 25,
   "id": "2caae44e",
   "metadata": {},
   "outputs": [
    {
     "name": "stdout",
     "output_type": "stream",
     "text": [
      "VaR (90.0%): $27,891.28\n",
      "VaR (95.0%): $35,797.22\n",
      "VaR (99.0%): $50,627.44\n"
     ]
    }
   ],
   "source": [
    "conf_levels = [0.90, 0.95, 0.99]\n",
    "for cl in conf_levels:\n",
    "    z = norm.ppf(1 - cl)\n",
    "    var = -(mu + z * sigma) * position_value\n",
    "    print(f\"VaR ({cl*100}%): ${var:,.2f}\")"
   ]
  }
 ],
 "metadata": {
  "kernelspec": {
   "display_name": "base",
   "language": "python",
   "name": "python3"
  },
  "language_info": {
   "codemirror_mode": {
    "name": "ipython",
    "version": 3
   },
   "file_extension": ".py",
   "mimetype": "text/x-python",
   "name": "python",
   "nbconvert_exporter": "python",
   "pygments_lexer": "ipython3",
   "version": "3.12.7"
  }
 },
 "nbformat": 4,
 "nbformat_minor": 5
}
