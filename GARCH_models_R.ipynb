{
 "cells": [
  {
   "cell_type": "code",
   "execution_count": 3,
   "id": "4ee709a2",
   "metadata": {
    "vscode": {
     "languageId": "r"
    }
   },
   "outputs": [],
   "source": [
    "library(quantmod)\n",
    "library(xts)\n",
    "library(dplyr)\n",
    "library(rugarch)\n",
    "library(rmgarch)\n",
    "library(PerformanceAnalytics)\n",
    "library(quadprog)\n",
    "library(FinTS)\n",
    "library(tseries)\n",
    "library(e1071)\n",
    "library(forecast)\n",
    "library(ggplot2)"
   ]
  },
  {
   "cell_type": "code",
   "execution_count": 4,
   "id": "518a3d0e",
   "metadata": {
    "vscode": {
     "languageId": "r"
    }
   },
   "outputs": [],
   "source": [
    "data <- read.csv(\"portfolio_2015_2025.csv\")"
   ]
  },
  {
   "cell_type": "code",
   "execution_count": 5,
   "id": "c75719a5",
   "metadata": {
    "vscode": {
     "languageId": "r"
    }
   },
   "outputs": [
    {
     "data": {
      "text/html": [
       "<style>\n",
       ".dl-inline {width: auto; margin:0; padding: 0}\n",
       ".dl-inline>dt, .dl-inline>dd {float: none; width: auto; display: inline-block}\n",
       ".dl-inline>dt::after {content: \":\\0020\"; padding-right: .5ex}\n",
       ".dl-inline>dt:not(:first-of-type) {padding-left: .5ex}\n",
       "</style><dl class=dl-inline><dt>X</dt><dd>0</dd><dt>GAZP</dt><dd>0</dd><dt>MGNT</dt><dd>0</dd><dt>MTSS</dt><dd>0</dd><dt>NLMK</dt><dd>0</dd><dt>SBER</dt><dd>0</dd><dt>ret_GAZP</dt><dd>0</dd><dt>ret_MGNT</dt><dd>0</dd><dt>ret_MTSS</dt><dd>0</dd><dt>ret_NLMK</dt><dd>0</dd><dt>ret_SBER</dt><dd>0</dd></dl>\n"
      ],
      "text/latex": [
       "\\begin{description*}\n",
       "\\item[X] 0\n",
       "\\item[GAZP] 0\n",
       "\\item[MGNT] 0\n",
       "\\item[MTSS] 0\n",
       "\\item[NLMK] 0\n",
       "\\item[SBER] 0\n",
       "\\item[ret\\textbackslash{}\\_GAZP] 0\n",
       "\\item[ret\\textbackslash{}\\_MGNT] 0\n",
       "\\item[ret\\textbackslash{}\\_MTSS] 0\n",
       "\\item[ret\\textbackslash{}\\_NLMK] 0\n",
       "\\item[ret\\textbackslash{}\\_SBER] 0\n",
       "\\end{description*}\n"
      ],
      "text/markdown": [
       "X\n",
       ":   0GAZP\n",
       ":   0MGNT\n",
       ":   0MTSS\n",
       ":   0NLMK\n",
       ":   0SBER\n",
       ":   0ret_GAZP\n",
       ":   0ret_MGNT\n",
       ":   0ret_MTSS\n",
       ":   0ret_NLMK\n",
       ":   0ret_SBER\n",
       ":   0\n",
       "\n"
      ],
      "text/plain": [
       "       X     GAZP     MGNT     MTSS     NLMK     SBER ret_GAZP ret_MGNT \n",
       "       0        0        0        0        0        0        0        0 \n",
       "ret_MTSS ret_NLMK ret_SBER \n",
       "       0        0        0 "
      ]
     },
     "metadata": {},
     "output_type": "display_data"
    }
   ],
   "source": [
    "colSums(is.na(data))"
   ]
  },
  {
   "cell_type": "code",
   "execution_count": 6,
   "id": "2376a6d9",
   "metadata": {
    "vscode": {
     "languageId": "r"
    }
   },
   "outputs": [
    {
     "data": {
      "text/html": [
       "<table class=\"dataframe\">\n",
       "<caption>A data.frame: 6 × 11</caption>\n",
       "<thead>\n",
       "\t<tr><th></th><th scope=col>X</th><th scope=col>GAZP</th><th scope=col>MGNT</th><th scope=col>MTSS</th><th scope=col>NLMK</th><th scope=col>SBER</th><th scope=col>ret_GAZP</th><th scope=col>ret_MGNT</th><th scope=col>ret_MTSS</th><th scope=col>ret_NLMK</th><th scope=col>ret_SBER</th></tr>\n",
       "\t<tr><th></th><th scope=col>&lt;chr&gt;</th><th scope=col>&lt;dbl&gt;</th><th scope=col>&lt;dbl&gt;</th><th scope=col>&lt;dbl&gt;</th><th scope=col>&lt;dbl&gt;</th><th scope=col>&lt;dbl&gt;</th><th scope=col>&lt;dbl&gt;</th><th scope=col>&lt;dbl&gt;</th><th scope=col>&lt;dbl&gt;</th><th scope=col>&lt;dbl&gt;</th><th scope=col>&lt;dbl&gt;</th></tr>\n",
       "</thead>\n",
       "<tbody>\n",
       "\t<tr><th scope=row>1</th><td>2015-01-06</td><td>138.92</td><td>10400</td><td>179.90</td><td>66.700</td><td>58.28</td><td> 0.03643163</td><td> 0.051596984</td><td> 0.02933092</td><td> 0.006241326</td><td> 0.033321879</td></tr>\n",
       "\t<tr><th scope=row>2</th><td>2015-01-08</td><td>146.46</td><td>10627</td><td>190.05</td><td>67.410</td><td>65.70</td><td> 0.05285413</td><td> 0.021592126</td><td> 0.05488605</td><td> 0.010588422</td><td> 0.119839944</td></tr>\n",
       "\t<tr><th scope=row>3</th><td>2015-01-09</td><td>141.70</td><td>10542</td><td>195.00</td><td>67.900</td><td>63.10</td><td>-0.03304021</td><td>-0.008030654</td><td> 0.02571236</td><td> 0.007242660</td><td>-0.040378156</td></tr>\n",
       "\t<tr><th scope=row>4</th><td>2015-01-12</td><td>140.22</td><td>10689</td><td>193.00</td><td>70.120</td><td>62.90</td><td>-0.01049953</td><td> 0.013847897</td><td>-0.01030937</td><td> 0.032172025</td><td>-0.003174606</td></tr>\n",
       "\t<tr><th scope=row>5</th><td>2015-01-13</td><td>142.64</td><td>11180</td><td>204.50</td><td>72.505</td><td>60.31</td><td> 0.01711136</td><td> 0.044911292</td><td> 0.05787779</td><td> 0.033447465</td><td>-0.042048236</td></tr>\n",
       "\t<tr><th scope=row>6</th><td>2015-01-14</td><td>146.30</td><td>11450</td><td>210.20</td><td>72.350</td><td>60.05</td><td> 0.02533533</td><td> 0.023863262</td><td> 0.02749148</td><td>-0.002140072</td><td>-0.004320379</td></tr>\n",
       "</tbody>\n",
       "</table>\n"
      ],
      "text/latex": [
       "A data.frame: 6 × 11\n",
       "\\begin{tabular}{r|lllllllllll}\n",
       "  & X & GAZP & MGNT & MTSS & NLMK & SBER & ret\\_GAZP & ret\\_MGNT & ret\\_MTSS & ret\\_NLMK & ret\\_SBER\\\\\n",
       "  & <chr> & <dbl> & <dbl> & <dbl> & <dbl> & <dbl> & <dbl> & <dbl> & <dbl> & <dbl> & <dbl>\\\\\n",
       "\\hline\n",
       "\t1 & 2015-01-06 & 138.92 & 10400 & 179.90 & 66.700 & 58.28 &  0.03643163 &  0.051596984 &  0.02933092 &  0.006241326 &  0.033321879\\\\\n",
       "\t2 & 2015-01-08 & 146.46 & 10627 & 190.05 & 67.410 & 65.70 &  0.05285413 &  0.021592126 &  0.05488605 &  0.010588422 &  0.119839944\\\\\n",
       "\t3 & 2015-01-09 & 141.70 & 10542 & 195.00 & 67.900 & 63.10 & -0.03304021 & -0.008030654 &  0.02571236 &  0.007242660 & -0.040378156\\\\\n",
       "\t4 & 2015-01-12 & 140.22 & 10689 & 193.00 & 70.120 & 62.90 & -0.01049953 &  0.013847897 & -0.01030937 &  0.032172025 & -0.003174606\\\\\n",
       "\t5 & 2015-01-13 & 142.64 & 11180 & 204.50 & 72.505 & 60.31 &  0.01711136 &  0.044911292 &  0.05787779 &  0.033447465 & -0.042048236\\\\\n",
       "\t6 & 2015-01-14 & 146.30 & 11450 & 210.20 & 72.350 & 60.05 &  0.02533533 &  0.023863262 &  0.02749148 & -0.002140072 & -0.004320379\\\\\n",
       "\\end{tabular}\n"
      ],
      "text/markdown": [
       "\n",
       "A data.frame: 6 × 11\n",
       "\n",
       "| <!--/--> | X &lt;chr&gt; | GAZP &lt;dbl&gt; | MGNT &lt;dbl&gt; | MTSS &lt;dbl&gt; | NLMK &lt;dbl&gt; | SBER &lt;dbl&gt; | ret_GAZP &lt;dbl&gt; | ret_MGNT &lt;dbl&gt; | ret_MTSS &lt;dbl&gt; | ret_NLMK &lt;dbl&gt; | ret_SBER &lt;dbl&gt; |\n",
       "|---|---|---|---|---|---|---|---|---|---|---|---|\n",
       "| 1 | 2015-01-06 | 138.92 | 10400 | 179.90 | 66.700 | 58.28 |  0.03643163 |  0.051596984 |  0.02933092 |  0.006241326 |  0.033321879 |\n",
       "| 2 | 2015-01-08 | 146.46 | 10627 | 190.05 | 67.410 | 65.70 |  0.05285413 |  0.021592126 |  0.05488605 |  0.010588422 |  0.119839944 |\n",
       "| 3 | 2015-01-09 | 141.70 | 10542 | 195.00 | 67.900 | 63.10 | -0.03304021 | -0.008030654 |  0.02571236 |  0.007242660 | -0.040378156 |\n",
       "| 4 | 2015-01-12 | 140.22 | 10689 | 193.00 | 70.120 | 62.90 | -0.01049953 |  0.013847897 | -0.01030937 |  0.032172025 | -0.003174606 |\n",
       "| 5 | 2015-01-13 | 142.64 | 11180 | 204.50 | 72.505 | 60.31 |  0.01711136 |  0.044911292 |  0.05787779 |  0.033447465 | -0.042048236 |\n",
       "| 6 | 2015-01-14 | 146.30 | 11450 | 210.20 | 72.350 | 60.05 |  0.02533533 |  0.023863262 |  0.02749148 | -0.002140072 | -0.004320379 |\n",
       "\n"
      ],
      "text/plain": [
       "  X          GAZP   MGNT  MTSS   NLMK   SBER  ret_GAZP    ret_MGNT    \n",
       "1 2015-01-06 138.92 10400 179.90 66.700 58.28  0.03643163  0.051596984\n",
       "2 2015-01-08 146.46 10627 190.05 67.410 65.70  0.05285413  0.021592126\n",
       "3 2015-01-09 141.70 10542 195.00 67.900 63.10 -0.03304021 -0.008030654\n",
       "4 2015-01-12 140.22 10689 193.00 70.120 62.90 -0.01049953  0.013847897\n",
       "5 2015-01-13 142.64 11180 204.50 72.505 60.31  0.01711136  0.044911292\n",
       "6 2015-01-14 146.30 11450 210.20 72.350 60.05  0.02533533  0.023863262\n",
       "  ret_MTSS    ret_NLMK     ret_SBER    \n",
       "1  0.02933092  0.006241326  0.033321879\n",
       "2  0.05488605  0.010588422  0.119839944\n",
       "3  0.02571236  0.007242660 -0.040378156\n",
       "4 -0.01030937  0.032172025 -0.003174606\n",
       "5  0.05787779  0.033447465 -0.042048236\n",
       "6  0.02749148 -0.002140072 -0.004320379"
      ]
     },
     "metadata": {},
     "output_type": "display_data"
    }
   ],
   "source": [
    "head(data)"
   ]
  },
  {
   "cell_type": "code",
   "execution_count": 7,
   "id": "e163b967",
   "metadata": {
    "vscode": {
     "languageId": "r"
    }
   },
   "outputs": [],
   "source": [
    "ret_GAZP <- data$ret_GAZP # Газпром - энергетика\n",
    "ret_MGNT <- data$ret_MGNT # Магнит - сеть розничных магазинов\n",
    "ret_MTSS <- data$ret_MTSS # МТС - телекоммуникационные услуги\n",
    "ret_NLMK <- data$ret_NLMK # НЛМК(Новолипецкий металлургический комбинат) - металлургия\n",
    "ret_SBER <- data$ret_SBER # СберБанк - финансы"
   ]
  },
  {
   "cell_type": "code",
   "execution_count": 8,
   "id": "bec2c890",
   "metadata": {
    "vscode": {
     "languageId": "r"
    }
   },
   "outputs": [
    {
     "name": "stderr",
     "output_type": "stream",
     "text": [
      "Warning message in adf.test(ret_GAZP):\n",
      "\"p-value smaller than printed p-value\"\n"
     ]
    },
    {
     "data": {
      "text/plain": [
       "\n",
       "\tAugmented Dickey-Fuller Test\n",
       "\n",
       "data:  ret_GAZP\n",
       "Dickey-Fuller = -13.339, Lag order = 13, p-value = 0.01\n",
       "alternative hypothesis: stationary\n"
      ]
     },
     "metadata": {},
     "output_type": "display_data"
    },
    {
     "name": "stderr",
     "output_type": "stream",
     "text": [
      "Warning message in adf.test(ret_MGNT):\n",
      "\"p-value smaller than printed p-value\"\n"
     ]
    },
    {
     "data": {
      "text/plain": [
       "\n",
       "\tAugmented Dickey-Fuller Test\n",
       "\n",
       "data:  ret_MGNT\n",
       "Dickey-Fuller = -14.544, Lag order = 13, p-value = 0.01\n",
       "alternative hypothesis: stationary\n"
      ]
     },
     "metadata": {},
     "output_type": "display_data"
    },
    {
     "name": "stderr",
     "output_type": "stream",
     "text": [
      "Warning message in adf.test(ret_MTSS):\n",
      "\"p-value smaller than printed p-value\"\n"
     ]
    },
    {
     "data": {
      "text/plain": [
       "\n",
       "\tAugmented Dickey-Fuller Test\n",
       "\n",
       "data:  ret_MTSS\n",
       "Dickey-Fuller = -13.878, Lag order = 13, p-value = 0.01\n",
       "alternative hypothesis: stationary\n"
      ]
     },
     "metadata": {},
     "output_type": "display_data"
    },
    {
     "name": "stderr",
     "output_type": "stream",
     "text": [
      "Warning message in adf.test(ret_NLMK):\n",
      "\"p-value smaller than printed p-value\"\n"
     ]
    },
    {
     "data": {
      "text/plain": [
       "\n",
       "\tAugmented Dickey-Fuller Test\n",
       "\n",
       "data:  ret_NLMK\n",
       "Dickey-Fuller = -12.945, Lag order = 13, p-value = 0.01\n",
       "alternative hypothesis: stationary\n"
      ]
     },
     "metadata": {},
     "output_type": "display_data"
    },
    {
     "name": "stderr",
     "output_type": "stream",
     "text": [
      "Warning message in adf.test(ret_SBER):\n",
      "\"p-value smaller than printed p-value\"\n"
     ]
    },
    {
     "data": {
      "text/plain": [
       "\n",
       "\tAugmented Dickey-Fuller Test\n",
       "\n",
       "data:  ret_SBER\n",
       "Dickey-Fuller = -13.523, Lag order = 13, p-value = 0.01\n",
       "alternative hypothesis: stationary\n"
      ]
     },
     "metadata": {},
     "output_type": "display_data"
    }
   ],
   "source": [
    "adf.test(ret_GAZP)\n",
    "adf.test(ret_MGNT)\n",
    "adf.test(ret_MTSS)\n",
    "adf.test(ret_NLMK)\n",
    "adf.test(ret_SBER)"
   ]
  },
  {
   "cell_type": "code",
   "execution_count": 9,
   "id": "679f95ca",
   "metadata": {
    "vscode": {
     "languageId": "r"
    }
   },
   "outputs": [
    {
     "data": {
      "image/png": "[encoded data removed]",
      "text/plain": [
       "plot without title"
      ]
     },
     "metadata": {
      "image/png": {
       "height": 420,
       "width": 420
      }
     },
     "output_type": "display_data"
    },
    {
     "data": {
      "image/png": "[encoded data removed]",
      "text/plain": [
       "plot without title"
      ]
     },
     "metadata": {
      "image/png": {
       "height": 420,
       "width": 420
      }
     },
     "output_type": "display_data"
    },
    {
     "data": {
      "image/png": "[encoded data removed]",
      "text/plain": [
       "plot without title"
      ]
     },
     "metadata": {
      "image/png": {
       "height": 420,
       "width": 420
      }
     },
     "output_type": "display_data"
    },
    {
     "data": {
      "image/png": "[encoded data removed]",
      "text/plain": [
       "plot without title"
      ]
     },
     "metadata": {
      "image/png": {
       "height": 420,
       "width": 420
      }
     },
     "output_type": "display_data"
    },
    {
     "data": {
      "image/png": "[encoded data removed]",
      "text/plain": [
       "plot without title"
      ]
     },
     "metadata": {
      "image/png": {
       "height": 420,
       "width": 420
      }
     },
     "output_type": "display_data"
    }
   ],
   "source": [
    "plot.ts(ret_GAZP)\n",
    "plot.ts(ret_MGNT)\n",
    "plot.ts(ret_MTSS)\n",
    "plot.ts(ret_NLMK)\n",
    "plot.ts(ret_SBER)"
   ]
  }
 ],
 "metadata": {
  "kernelspec": {
   "display_name": "R",
   "language": "R",
   "name": "ir"
  },
  "language_info": {
   "codemirror_mode": "r",
   "file_extension": ".r",
   "mimetype": "text/x-r-source",
   "name": "R",
   "pygments_lexer": "r",
   "version": "4.4.3"
  }
 },
 "nbformat": 4,
 "nbformat_minor": 5
}
